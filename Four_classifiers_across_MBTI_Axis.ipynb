{
  "cells": [
    {
      "cell_type": "markdown",
      "metadata": {
        "id": "uauvQsWx7Nx_"
      },
      "source": [
        "Four classifiers across MBTI Axis"
      ]
    },
    {
      "cell_type": "code",
      "execution_count": null,
      "metadata": {
        "id": "Z3_DjxOCAuC-"
      },
      "outputs": [],
      "source": [
        "\n",
        "# Data Analysis\n",
        "import pandas as pd\n",
        "import numpy as np\n",
        "from numpy import asarray\n",
        "from numpy import savetxt\n",
        "from numpy import loadtxt\n",
        "import pickle as pkl\n",
        "from scipy import sparse\n",
        "\n",
        "# Data Visualization\n",
        "import seaborn as sns\n",
        "import matplotlib.pyplot as plt\n",
        "import wordcloud\n",
        "from wordcloud import WordCloud, STOPWORDS\n",
        "\n",
        "# Text Processing\n",
        "import re\n",
        "import itertools\n",
        "import string\n",
        "import collections\n",
        "from collections import Counter\n",
        "from sklearn.preprocessing import LabelEncoder\n",
        "import nltk\n",
        "from nltk.classify import NaiveBayesClassifier\n",
        "from nltk.corpus import stopwords\n",
        "from nltk import word_tokenize\n",
        "from nltk.tokenize import word_tokenize\n",
        "from nltk.stem import PorterStemmer, WordNetLemmatizer\n",
        "\n",
        "# Machine Learning packages\n",
        "import sklearn\n",
        "from sklearn.feature_extraction.text import CountVectorizer\n",
        "from sklearn.feature_extraction.text import TfidfVectorizer\n",
        "from sklearn.feature_extraction.text import TfidfTransformer\n",
        "import sklearn.cluster as cluster\n",
        "from sklearn.manifold import TSNE\n",
        "\n",
        "# Model training and evaluation\n",
        "from sklearn.model_selection import train_test_split\n",
        "\n",
        "#Models\n",
        "from sklearn.linear_model import LogisticRegression\n",
        "from sklearn.linear_model import SGDClassifier\n",
        "from sklearn.neighbors import KNeighborsClassifier\n",
        "from sklearn.naive_bayes import GaussianNB\n",
        "from sklearn.svm import SVC\n",
        "from sklearn.ensemble import RandomForestClassifier, GradientBoostingClassifier\n",
        "from xgboost import XGBClassifier\n",
        "from xgboost import plot_importance\n",
        "\n",
        "#Metrics\n",
        "from sklearn.metrics import r2_score, mean_squared_error, mean_absolute_error, accuracy_score, balanced_accuracy_score\n",
        "from sklearn.metrics import precision_score, recall_score, f1_score, multilabel_confusion_matrix, confusion_matrix\n",
        "from sklearn.metrics import classification_report\n",
        "\n",
        "# Ignore noise warning\n",
        "import warnings\n",
        "warnings.filterwarnings(\"ignore\")"
      ]
    },
    {
      "cell_type": "code",
      "execution_count": null,
      "metadata": {
        "colab": {
          "base_uri": "https://localhost:8080/",
          "height": 73
        },
        "id": "K3cTAmgg7BXc",
        "outputId": "b65cff01-928a-4059-cc52-d91321a60564"
      },
      "outputs": [
        {
          "output_type": "display_data",
          "data": {
            "text/plain": [
              "<IPython.core.display.HTML object>"
            ],
            "text/html": [
              "\n",
              "     <input type=\"file\" id=\"files-0a75f54d-580a-4044-9d9c-5c84f03e4b4b\" name=\"files[]\" multiple disabled\n",
              "        style=\"border:none\" />\n",
              "     <output id=\"result-0a75f54d-580a-4044-9d9c-5c84f03e4b4b\">\n",
              "      Upload widget is only available when the cell has been executed in the\n",
              "      current browser session. Please rerun this cell to enable.\n",
              "      </output>\n",
              "      <script>// Copyright 2017 Google LLC\n",
              "//\n",
              "// Licensed under the Apache License, Version 2.0 (the \"License\");\n",
              "// you may not use this file except in compliance with the License.\n",
              "// You may obtain a copy of the License at\n",
              "//\n",
              "//      http://www.apache.org/licenses/LICENSE-2.0\n",
              "//\n",
              "// Unless required by applicable law or agreed to in writing, software\n",
              "// distributed under the License is distributed on an \"AS IS\" BASIS,\n",
              "// WITHOUT WARRANTIES OR CONDITIONS OF ANY KIND, either express or implied.\n",
              "// See the License for the specific language governing permissions and\n",
              "// limitations under the License.\n",
              "\n",
              "/**\n",
              " * @fileoverview Helpers for google.colab Python module.\n",
              " */\n",
              "(function(scope) {\n",
              "function span(text, styleAttributes = {}) {\n",
              "  const element = document.createElement('span');\n",
              "  element.textContent = text;\n",
              "  for (const key of Object.keys(styleAttributes)) {\n",
              "    element.style[key] = styleAttributes[key];\n",
              "  }\n",
              "  return element;\n",
              "}\n",
              "\n",
              "// Max number of bytes which will be uploaded at a time.\n",
              "const MAX_PAYLOAD_SIZE = 100 * 1024;\n",
              "\n",
              "function _uploadFiles(inputId, outputId) {\n",
              "  const steps = uploadFilesStep(inputId, outputId);\n",
              "  const outputElement = document.getElementById(outputId);\n",
              "  // Cache steps on the outputElement to make it available for the next call\n",
              "  // to uploadFilesContinue from Python.\n",
              "  outputElement.steps = steps;\n",
              "\n",
              "  return _uploadFilesContinue(outputId);\n",
              "}\n",
              "\n",
              "// This is roughly an async generator (not supported in the browser yet),\n",
              "// where there are multiple asynchronous steps and the Python side is going\n",
              "// to poll for completion of each step.\n",
              "// This uses a Promise to block the python side on completion of each step,\n",
              "// then passes the result of the previous step as the input to the next step.\n",
              "function _uploadFilesContinue(outputId) {\n",
              "  const outputElement = document.getElementById(outputId);\n",
              "  const steps = outputElement.steps;\n",
              "\n",
              "  const next = steps.next(outputElement.lastPromiseValue);\n",
              "  return Promise.resolve(next.value.promise).then((value) => {\n",
              "    // Cache the last promise value to make it available to the next\n",
              "    // step of the generator.\n",
              "    outputElement.lastPromiseValue = value;\n",
              "    return next.value.response;\n",
              "  });\n",
              "}\n",
              "\n",
              "/**\n",
              " * Generator function which is called between each async step of the upload\n",
              " * process.\n",
              " * @param {string} inputId Element ID of the input file picker element.\n",
              " * @param {string} outputId Element ID of the output display.\n",
              " * @return {!Iterable<!Object>} Iterable of next steps.\n",
              " */\n",
              "function* uploadFilesStep(inputId, outputId) {\n",
              "  const inputElement = document.getElementById(inputId);\n",
              "  inputElement.disabled = false;\n",
              "\n",
              "  const outputElement = document.getElementById(outputId);\n",
              "  outputElement.innerHTML = '';\n",
              "\n",
              "  const pickedPromise = new Promise((resolve) => {\n",
              "    inputElement.addEventListener('change', (e) => {\n",
              "      resolve(e.target.files);\n",
              "    });\n",
              "  });\n",
              "\n",
              "  const cancel = document.createElement('button');\n",
              "  inputElement.parentElement.appendChild(cancel);\n",
              "  cancel.textContent = 'Cancel upload';\n",
              "  const cancelPromise = new Promise((resolve) => {\n",
              "    cancel.onclick = () => {\n",
              "      resolve(null);\n",
              "    };\n",
              "  });\n",
              "\n",
              "  // Wait for the user to pick the files.\n",
              "  const files = yield {\n",
              "    promise: Promise.race([pickedPromise, cancelPromise]),\n",
              "    response: {\n",
              "      action: 'starting',\n",
              "    }\n",
              "  };\n",
              "\n",
              "  cancel.remove();\n",
              "\n",
              "  // Disable the input element since further picks are not allowed.\n",
              "  inputElement.disabled = true;\n",
              "\n",
              "  if (!files) {\n",
              "    return {\n",
              "      response: {\n",
              "        action: 'complete',\n",
              "      }\n",
              "    };\n",
              "  }\n",
              "\n",
              "  for (const file of files) {\n",
              "    const li = document.createElement('li');\n",
              "    li.append(span(file.name, {fontWeight: 'bold'}));\n",
              "    li.append(span(\n",
              "        `(${file.type || 'n/a'}) - ${file.size} bytes, ` +\n",
              "        `last modified: ${\n",
              "            file.lastModifiedDate ? file.lastModifiedDate.toLocaleDateString() :\n",
              "                                    'n/a'} - `));\n",
              "    const percent = span('0% done');\n",
              "    li.appendChild(percent);\n",
              "\n",
              "    outputElement.appendChild(li);\n",
              "\n",
              "    const fileDataPromise = new Promise((resolve) => {\n",
              "      const reader = new FileReader();\n",
              "      reader.onload = (e) => {\n",
              "        resolve(e.target.result);\n",
              "      };\n",
              "      reader.readAsArrayBuffer(file);\n",
              "    });\n",
              "    // Wait for the data to be ready.\n",
              "    let fileData = yield {\n",
              "      promise: fileDataPromise,\n",
              "      response: {\n",
              "        action: 'continue',\n",
              "      }\n",
              "    };\n",
              "\n",
              "    // Use a chunked sending to avoid message size limits. See b/62115660.\n",
              "    let position = 0;\n",
              "    do {\n",
              "      const length = Math.min(fileData.byteLength - position, MAX_PAYLOAD_SIZE);\n",
              "      const chunk = new Uint8Array(fileData, position, length);\n",
              "      position += length;\n",
              "\n",
              "      const base64 = btoa(String.fromCharCode.apply(null, chunk));\n",
              "      yield {\n",
              "        response: {\n",
              "          action: 'append',\n",
              "          file: file.name,\n",
              "          data: base64,\n",
              "        },\n",
              "      };\n",
              "\n",
              "      let percentDone = fileData.byteLength === 0 ?\n",
              "          100 :\n",
              "          Math.round((position / fileData.byteLength) * 100);\n",
              "      percent.textContent = `${percentDone}% done`;\n",
              "\n",
              "    } while (position < fileData.byteLength);\n",
              "  }\n",
              "\n",
              "  // All done.\n",
              "  yield {\n",
              "    response: {\n",
              "      action: 'complete',\n",
              "    }\n",
              "  };\n",
              "}\n",
              "\n",
              "scope.google = scope.google || {};\n",
              "scope.google.colab = scope.google.colab || {};\n",
              "scope.google.colab._files = {\n",
              "  _uploadFiles,\n",
              "  _uploadFilesContinue,\n",
              "};\n",
              "})(self);\n",
              "</script> "
            ]
          },
          "metadata": {}
        },
        {
          "output_type": "stream",
          "name": "stdout",
          "text": [
            "Saving mbti_1.csv to mbti_1.csv\n"
          ]
        }
      ],
      "source": [
        "from google.colab import files\n",
        "uploaded = files.upload()\n",
        "\n",
        "# To use the uploaded file, you might do:\n",
        "import pandas as pd\n",
        "data = pd.read_csv(\"mbti_1.csv\")"
      ]
    },
    {
      "cell_type": "code",
      "execution_count": null,
      "metadata": {
        "id": "hjni5Bmw8rzg"
      },
      "outputs": [],
      "source": [
        "def get_types(row):\n",
        "    t=row['type']\n",
        "\n",
        "    I = 0; N = 0\n",
        "    T = 0; J = 0\n",
        "\n",
        "    if t[0] == 'I': I = 1\n",
        "    elif t[0] == 'E': I = 0\n",
        "    else: print('I-E not found')\n",
        "\n",
        "    if t[1] == 'N': N = 1\n",
        "    elif t[1] == 'S': N = 0\n",
        "    else: print('N-S not found')\n",
        "\n",
        "    if t[2] == 'T': T = 1\n",
        "    elif t[2] == 'F': T = 0\n",
        "    else: print('T-F not found')\n",
        "\n",
        "    if t[3] == 'J': J = 1\n",
        "    elif t[3] == 'P': J = 0\n",
        "    else: print('J-P not found')\n",
        "    return pd.Series( {'IE':I, 'NS':N , 'TF': T, 'JP': J })\n",
        "    data = data.join(data.apply (lambda row: get_types (row),axis=1))\n",
        "\n"
      ]
    },
    {
      "cell_type": "code",
      "execution_count": null,
      "metadata": {
        "id": "fQG0DJYBEpzA",
        "colab": {
          "base_uri": "https://localhost:8080/"
        },
        "outputId": "cfe12621-bb19-4e4f-a3e9-32dda7d9b4b7"
      },
      "outputs": [
        {
          "output_type": "stream",
          "name": "stdout",
          "text": [
            "Introversion (I) / Extroversion (E):\t 1999  /  6676\n",
            "Intuition (N) / Sensing (S):\t\t 1197  /  7478\n",
            "Thinking (T) / Feeling (F):\t\t 4694  /  3981\n",
            "Judging (J) / Perceiving (P):\t\t 5241  /  3434\n"
          ]
        }
      ],
      "source": [
        "    data = data.join(data.apply (lambda row: get_types (row),axis=1))\n",
        "print (\"Introversion (I) / Extroversion (E):\\t\", data['IE'].value_counts()[0], \" / \", data['IE'].value_counts()[1])\n",
        "print (\"Intuition (N) / Sensing (S):\\t\\t\", data['NS'].value_counts()[0], \" / \", data['NS'].value_counts()[1])\n",
        "print (\"Thinking (T) / Feeling (F):\\t\\t\", data['TF'].value_counts()[0], \" / \", data['TF'].value_counts()[1])\n",
        "print (\"Judging (J) / Perceiving (P):\\t\\t\", data['JP'].value_counts()[0], \" / \", data['JP'].value_counts()[1])"
      ]
    },
    {
      "cell_type": "code",
      "execution_count": null,
      "metadata": {
        "id": "gv7Z2NyQJm2F",
        "colab": {
          "base_uri": "https://localhost:8080/",
          "height": 452
        },
        "outputId": "24411df0-1ef5-4986-d2f6-cde871940af6"
      },
      "outputs": [
        {
          "output_type": "display_data",
          "data": {
            "text/plain": [
              "<Figure size 640x480 with 1 Axes>"
            ],
            "image/png": "[encoded data removed]"
          },
          "metadata": {}
        }
      ],
      "source": [
        "\n",
        "\n",
        "# Your data\n",
        "N = 4\n",
        "bottom = (data['IE'].value_counts()[0], data['NS'].value_counts()[0], data['TF'].value_counts()[0], data['JP'].value_counts()[0])\n",
        "top = (data['IE'].value_counts()[1], data['NS'].value_counts()[1], data['TF'].value_counts()[1], data['JP'].value_counts()[1])\n",
        "\n",
        "ind = np.arange(N)  # the x locations for the groups\n",
        "width = 0.35  # the width of the bars\n",
        "\n",
        "# Define colors for the bars\n",
        "colors = ['b', 'g', 'r', 'c']\n",
        "\n",
        "# Create the bar plots with specified colors\n",
        "p1 = plt.bar(ind, bottom, width, color=colors, label=\"I, N, T, F\")\n",
        "p2 = plt.bar(ind, top, width, bottom=bottom, color='y', label=\"E, S, F, P\")  # You can specify a single color for the second set of bars\n",
        "\n",
        "plt.title('Distribution across types indicators')\n",
        "plt.ylabel('Count')\n",
        "plt.xticks(ind, ('I / E', 'N / S', 'T / F', 'J / P'))\n",
        "plt.legend()\n",
        "\n",
        "plt.show()\n"
      ]
    },
    {
      "cell_type": "markdown",
      "metadata": {
        "id": "nNjwn7FDMZbK"
      },
      "source": [
        "Features correlation clustermap"
      ]
    },
    {
      "cell_type": "code",
      "execution_count": null,
      "metadata": {
        "id": "DOn9SGLrMO1c",
        "colab": {
          "base_uri": "https://localhost:8080/",
          "height": 455
        },
        "outputId": "3bd1d31d-18d9-4e28-f0fa-bc0d16adf64b"
      },
      "outputs": [
        {
          "output_type": "display_data",
          "data": {
            "text/plain": [
              "<Figure size 1000x400 with 0 Axes>"
            ]
          },
          "metadata": {}
        },
        {
          "output_type": "display_data",
          "data": {
            "text/plain": [
              "<Figure size 1000x400 with 4 Axes>"
            ],
            "image/png": "[encoded data removed]"
          },
          "metadata": {}
        }
      ],
      "source": [
        "import seaborn as sns\n",
        "import matplotlib.pyplot as plt\n",
        "\n",
        "cmap = plt.cm.RdBu\n",
        "corr = data[['IE', 'NS', 'TF', 'JP']].corr()\n",
        "\n",
        "plt.figure(figsize=(10, 4))\n",
        "sns.clustermap(corr, cmap=cmap, annot=True, linewidths=1, figsize=(10 , 4))\n",
        "plt.title('Features Correlation Clustermap', size=15)\n",
        "plt.show()\n"
      ]
    },
    {
      "cell_type": "markdown",
      "metadata": {
        "id": "yOHFgv88M6LJ"
      },
      "source": [
        "Pre-processing stage\n"
      ]
    },
    {
      "cell_type": "markdown",
      "metadata": {
        "id": "L_mnynTLM_JU"
      },
      "source": [
        "Lemmatization"
      ]
    },
    {
      "cell_type": "code",
      "execution_count": null,
      "metadata": {
        "id": "DCPxojOnM5Ji",
        "colab": {
          "base_uri": "https://localhost:8080/"
        },
        "outputId": "8ce85c4e-12db-47d4-d5e4-5857ff42e824"
      },
      "outputs": [
        {
          "output_type": "stream",
          "name": "stderr",
          "text": [
            "[nltk_data] Downloading package stopwords to /root/nltk_data...\n",
            "[nltk_data]   Unzipping corpora/stopwords.zip.\n"
          ]
        }
      ],
      "source": [
        "import nltk\n",
        "nltk.download('stopwords')\n",
        "lemmatiser = WordNetLemmatizer()\n",
        "\n",
        "# Remove the stop words for speed\n",
        "useless_words = stopwords.words(\"english\")\n",
        "\n",
        "# Remove these from the posts\n",
        "unique_type_list = ['INFJ', 'ENTP', 'INTP', 'INTJ', 'ENTJ', 'ENFJ', 'INFP', 'ENFP',\n",
        "       'ISFP', 'ISTP', 'ISFJ', 'ISTJ', 'ESTP', 'ESFP', 'ESTJ', 'ESFJ']\n",
        "unique_type_list = [x.lower() for x in unique_type_list]\n"
      ]
    },
    {
      "cell_type": "code",
      "execution_count": null,
      "metadata": {
        "id": "znjNdGRKi2yQ",
        "colab": {
          "base_uri": "https://localhost:8080/"
        },
        "outputId": "066a9f96-693b-4294-a0bd-6162659ba80c"
      },
      "outputs": [
        {
          "output_type": "stream",
          "name": "stdout",
          "text": [
            "Binarize MBTI list: \n",
            "[[0 0 0 0]\n",
            " [1 0 1 1]\n",
            " [0 0 1 1]\n",
            " ...\n",
            " [0 0 1 1]\n",
            " [0 0 0 1]\n",
            " [0 0 0 1]]\n"
          ]
        }
      ],
      "source": [
        "# Splitting the MBTI personality into 4 letters and binarizing it\n",
        "\n",
        "b_Pers = {'I':0, 'E':1, 'N':0, 'S':1, 'F':0, 'T':1, 'J':0, 'P':1}\n",
        "b_Pers_list = [{0:'I', 1:'E'}, {0:'N', 1:'S'}, {0:'F', 1:'T'}, {0:'J', 1:'P'}]\n",
        "\n",
        "def translate_personality(personality):\n",
        "    # transform mbti to binary vector\n",
        "    return [b_Pers[l] for l in personality]\n",
        "\n",
        "#To show result output for personality prediction\n",
        "def translate_back(personality):\n",
        "    # transform binary vector to mbti personality\n",
        "    s = \"\"\n",
        "    for i, l in enumerate(personality):\n",
        "        s += b_Pers_list[i][l]\n",
        "    return s\n",
        "\n",
        "list_personality_bin = np.array([translate_personality(p) for p in data.type])\n",
        "print(\"Binarize MBTI list: \\n%s\" % list_personality_bin)"
      ]
    },
    {
      "cell_type": "code",
      "execution_count": null,
      "metadata": {
        "id": "Oed37nwhi5Rb",
        "colab": {
          "base_uri": "https://localhost:8080/"
        },
        "outputId": "ecc0713c-7ed0-462c-b6c5-2f04f56201ed"
      },
      "outputs": [
        {
          "output_type": "stream",
          "name": "stderr",
          "text": [
            "[nltk_data] Downloading package wordnet to /root/nltk_data...\n"
          ]
        },
        {
          "output_type": "stream",
          "name": "stdout",
          "text": [
            "Example :\n",
            "\n",
            "Post before preprocessing:\n",
            "\n",
            " 'http://www.youtube.com/watch?v=qsXHcwe3krw|||http://41.media.tumblr.com/tumblr_lfouy03PMA1qa1rooo1_500.jpg|||enfp and intj moments  https://www.youtube.com/watch?v=iz7lE1g4XM4  sportscenter not top ten plays  https://www.youtube.com/watch?v=uCdfze1etec  pranks|||What has been the most life-changing experience in your life?|||http://www.youtube.com/watch?v=vXZeYwwRDw8   http://www.youtube.com/watch?v=u8ejam5DP3E  On repeat for most of today.|||May the PerC Experience immerse you.|||The last thing my INFJ friend posted on his facebook before committing suicide the next day. Rest in peace~   http://vimeo.com/22842206|||Hello ENFJ7. Sorry to hear of your distress. It's only natural for a relationship to not be perfection all the time in every moment of existence. Try to figure the hard times as times of growth, as...|||84389  84390  http://wallpaperpassion.com/upload/23700/friendship-boy-and-girl-wallpaper.jpg  http://assets.dornob.com/wp-content/uploads/2010/04/round-home-design.jpg ...|||Welcome and stuff.|||http://playeressence.com/wp-content/uploads/2013/08/RED-red-the-pokemon-master-32560474-450-338.jpg  Game. Set. Match.|||Prozac, wellbrutin, at least thirty minutes of moving your legs (and I don't mean moving them while sitting in your same desk chair), weed in moderation (maybe try edibles as a healthier alternative...|||Basically come up with three items you've determined that each type (or whichever types you want to do) would more than likely use, given each types' cognitive functions and whatnot, when left by...|||All things in moderation.  Sims is indeed a video game, and a good one at that. Note: a good one at that is somewhat subjective in that I am not completely promoting the death of any given Sim...|||Dear ENFP:  What were your favorite video games growing up and what are your now, current favorite video games? :cool:|||https://www.youtube.com/watch?v=QyPqT8umzmY|||It appears to be too late. :sad:|||There's someone out there for everyone.|||Wait... I thought confidence was a good thing.|||I just cherish the time of solitude b/c i revel within my inner world more whereas most other time i'd be workin... just enjoy the me time while you can. Don't worry, people will always be around to...|||Yo entp ladies... if you're into a complimentary personality,well, hey.|||... when your main social outlet is xbox live conversations and even then you verbally fatigue quickly.|||http://www.youtube.com/watch?v=gDhy7rdfm14  I really dig the part from 1:46 to 2:50|||http://www.youtube.com/watch?v=msqXffgh7b8|||Banned because this thread requires it of me.|||Get high in backyard, roast and eat marshmellows in backyard while conversing over something intellectual, followed by massages and kisses.|||http://www.youtube.com/watch?v=Mw7eoU3BMbE|||http://www.youtube.com/watch?v=4V2uYORhQOk|||http://www.youtube.com/watch?v=SlVmgFQQ0TI|||Banned for too many b's in that sentence. How could you! Think of the B!|||Banned for watching movies in the corner with the dunces.|||Banned because Health class clearly taught you nothing about peer pressure.|||Banned for a whole host of reasons!|||http://www.youtube.com/watch?v=IRcrv41hgz4|||1) Two baby deer on left and right munching on a beetle in the middle.  2) Using their own blood, two cavemen diary today's latest happenings on their designated cave diary wall.  3) I see it as...|||a pokemon world  an infj society  everyone becomes an optimist|||49142|||http://www.youtube.com/watch?v=ZRCEq_JFeFM|||http://discovermagazine.com/2012/jul-aug/20-things-you-didnt-know-about-deserts/desert.jpg|||http://oyster.ignimgs.com/mediawiki/apis.ign.com/pokemon-silver-version/d/dd/Ditto.gif|||http://www.serebii.net/potw-dp/Scizor.jpg|||Not all artists are artists because they draw. It's the idea that counts in forming something of your own... like a signature.|||Welcome to the robot ranks, person who downed my self-esteem cuz I'm not an avid signature artist like herself. :proud:|||Banned for taking all the room under my bed. Ya gotta learn to share with the roaches.|||http://www.youtube.com/watch?v=w8IgImn57aQ|||Banned for being too much of a thundering, grumbling kind of storm... yep.|||Ahh... old high school music I haven't heard in ages.   http://www.youtube.com/watch?v=dcCRUPCdB1w|||I failed a public speaking class a few years ago and I've sort of learned what I could do better were I to be in that position again. A big part of my failure was just overloading myself with too...|||I like this person's mentality. He's a confirmed INTJ by the way. http://www.youtube.com/watch?v=hGKLI-GEc6M|||Move to the Denver area and start a new life for myself.'\n",
            "\n",
            "Post after preprocessing:\n",
            "\n",
            "    moment sportscenter top ten play prank life changing experience life repeat today may perc experience immerse last thing  friend posted facebook committing suicide next day rest peace hello  sorry hear distress natural relationship perfection time every moment existence try figure hard time time growth welcome stuff game set match prozac wellbrutin least thirty minute moving leg mean moving sitting desk chair weed moderation maybe try edible healthier alternative basically come three item determined type whichever type want would likely use given type cognitive function whatnot left thing moderation sims indeed video game good one note good one somewhat subjective completely promoting death given sim dear  favorite video game growing current favorite video game cool appears late sad someone everyone wait thought confidence good thing cherish time solitude b c revel within inner world whereas time workin enjoy time worry people always around yo  lady complimentary personality well hey main social outlet xbox live conversation even verbally fatigue quickly really dig part banned thread requires get high backyard roast eat marshmellows backyard conversing something intellectual followed massage kiss banned many b sentence could think b banned watching movie corner dunce banned health class clearly taught nothing peer pressure banned whole host reason two baby deer left right munching beetle middle using blood two caveman diary today latest happening designated cave diary wall see pokemon world  society everyone becomes optimist artist artist draw idea count forming something like signature welcome robot rank person downed self esteem cuz avid signature artist like proud banned taking room bed ya gotta learn share roach banned much thundering grumbling kind storm yep ahh old high school music heard age failed public speaking class year ago sort learned could better position big part failure overloading like person mentality confirmed  way move denver area start new life \n",
            "\n",
            "MBTI before preprocessing:\n",
            "\n",
            " INFJ\n",
            "\n",
            "MBTI after preprocessing:\n",
            "\n",
            " [0 0 0 0]\n"
          ]
        }
      ],
      "source": [
        "import nltk\n",
        "nltk.download('wordnet')\n",
        "\n",
        "def pre_process_text(data, remove_stop_words=True, remove_mbti_profiles=True):\n",
        "    list_personality = []\n",
        "    list_posts = []\n",
        "    len_data = len(data)\n",
        "    i = 0\n",
        "\n",
        "    for row in data.iterrows():\n",
        "        # check code working\n",
        "        # i += 1\n",
        "        # if (i % 500 == 0 or i == 1 or i == len_data):\n",
        "        #     print(\"%s of %s rows\" % (i, len_data))\n",
        "\n",
        "        # Remove and clean comments\n",
        "        posts = row[1].posts\n",
        "\n",
        "        # Remove url links\n",
        "        temp = re.sub('http[s]?://(?:[a-zA-Z]|[0-9]|[$-_@.&+]|(?:%[0-9a-fA-F][0-9a-fA-F]))+', ' ', posts)\n",
        "\n",
        "        # Remove Non-words - keep only words\n",
        "        temp = re.sub(\"[^a-zA-Z]\", \" \", temp)\n",
        "\n",
        "        # Remove spaces > 1\n",
        "        temp = re.sub(' +', ' ', temp).lower()\n",
        "\n",
        "        # Remove multiple letter repeating words\n",
        "        temp = re.sub(r'([a-z])\\1{2,}[\\s|\\w]*', '', temp)\n",
        "\n",
        "        # Remove stop words\n",
        "        if remove_stop_words:\n",
        "            temp = \" \".join([lemmatiser.lemmatize(w) for w in temp.split(' ') if w not in useless_words])\n",
        "        else:\n",
        "            temp = \" \".join([lemmatiser.lemmatize(w) for w in temp.split(' ')])\n",
        "\n",
        "        # Remove MBTI personality words from posts\n",
        "        if remove_mbti_profiles:\n",
        "            for t in unique_type_list:\n",
        "                temp = temp.replace(t, \"\")\n",
        "\n",
        "        # transform mbti to binary vector\n",
        "        type_labelized = translate_personality(row[1].type)  # or use lab_encoder.transform([row[1].type])[0]\n",
        "        list_personality.append(type_labelized)\n",
        "        # the cleaned data temp is passed here\n",
        "        list_posts.append(temp)\n",
        "\n",
        "    # returns the result\n",
        "    list_posts = np.array(list_posts)\n",
        "    list_personality = np.array(list_personality)\n",
        "    return list_posts, list_personality\n",
        "\n",
        "list_posts, list_personality = pre_process_text(data, remove_stop_words=True, remove_mbti_profiles=True)\n",
        "\n",
        "print(\"Example :\")\n",
        "print(\"\\nPost before preprocessing:\\n\\n\", data.posts[0])\n",
        "print(\"\\nPost after preprocessing:\\n\\n\", list_posts[0])\n",
        "print(\"\\nMBTI before preprocessing:\\n\\n\", data.type[0])\n",
        "print(\"\\nMBTI after preprocessing:\\n\\n\", list_personality[0])\n",
        "\n"
      ]
    },
    {
      "cell_type": "markdown",
      "source": [
        "Feature Engineering"
      ],
      "metadata": {
        "id": "53VU6_Cxypkp"
      }
    },
    {
      "cell_type": "code",
      "execution_count": null,
      "metadata": {
        "id": "_d0WPKvgjhgP",
        "colab": {
          "base_uri": "https://localhost:8080/"
        },
        "outputId": "ce2e1603-5ba4-4e5c-a485-c286afbca6d0"
      },
      "outputs": [
        {
          "output_type": "stream",
          "name": "stdout",
          "text": [
            "Using CountVectorizer :\n",
            "10 feature names can be seen below\n",
            "[(0, 'ability'), (1, 'able'), (2, 'absolutely'), (3, 'across'), (4, 'act'), (5, 'action'), (6, 'actually'), (7, 'add'), (8, 'advice'), (9, 'afraid')]\n",
            "\n",
            "Using Tf-idf :\n",
            "Now the dataset size is as below\n",
            "(8675, 595)\n"
          ]
        }
      ],
      "source": [
        "# Vectorizing the database posts to a matrix of token counts for the model\n",
        "cntizer = CountVectorizer(analyzer=\"word\",\n",
        "                             max_features=1000,\n",
        "                             max_df=0.7,\n",
        "                             min_df=0.1)\n",
        "# the feature should be made of word n-gram\n",
        "# Learn the vocabulary dictionary and return term-document matrix\n",
        "print(\"Using CountVectorizer :\")\n",
        "X_cnt = cntizer.fit_transform(list_posts)\n",
        "\n",
        "#The enumerate object yields pairs containing a count and a value (useful for obtaining an indexed list)\n",
        "feature_names = list(enumerate(cntizer.get_feature_names_out()))\n",
        "print(\"10 feature names can be seen below\")\n",
        "print(feature_names[0:10])\n",
        "\n",
        "# For the Standardization or Feature Scaling Stage :-\n",
        "# Transform the count matrix to a normalized tf or tf-idf representation\n",
        "tfizer = TfidfTransformer()\n",
        "\n",
        "# Learn the idf vector (fit) and transform a count matrix to a tf-idf representation\n",
        "print(\"\\nUsing Tf-idf :\")\n",
        "\n",
        "print(\"Now the dataset size is as below\")\n",
        "X_tfidf =  tfizer.fit_transform(X_cnt).toarray()\n",
        "print(X_tfidf.shape)"
      ]
    },
    {
      "cell_type": "markdown",
      "source": [
        "Splitting x and y"
      ],
      "metadata": {
        "id": "_hDull-N0FJx"
      }
    },
    {
      "cell_type": "code",
      "source": [
        "personality_type = [ \"IE: Introversion (I) / Extroversion (E)\", \"NS: Intuition (N) / Sensing (S)\",\n",
        "                   \"FT: Feeling (F) / Thinking (T)\", \"JP: Judging (J) / Perceiving (P)\"  ]\n",
        "\n",
        "for l in range(len(personality_type)):\n",
        "    print(personality_type[l])"
      ],
      "metadata": {
        "colab": {
          "base_uri": "https://localhost:8080/"
        },
        "id": "VHgan4_D0F5P",
        "outputId": "1fb86e5c-7419-41d6-e621-9f90b40f8c11"
      },
      "execution_count": null,
      "outputs": [
        {
          "output_type": "stream",
          "name": "stdout",
          "text": [
            "IE: Introversion (I) / Extroversion (E)\n",
            "NS: Intuition (N) / Sensing (S)\n",
            "FT: Feeling (F) / Thinking (T)\n",
            "JP: Judging (J) / Perceiving (P)\n"
          ]
        }
      ]
    },
    {
      "cell_type": "code",
      "source": [
        "print(\"X: 1st posts in tf-idf representation\\n%s\" % X_tfidf[0])"
      ],
      "metadata": {
        "colab": {
          "base_uri": "https://localhost:8080/"
        },
        "id": "w8qnaiId0RK6",
        "outputId": "f4881926-c353-4e76-da78-718572425c5f"
      },
      "execution_count": null,
      "outputs": [
        {
          "output_type": "stream",
          "name": "stdout",
          "text": [
            "X: 1st posts in tf-idf representation\n",
            "[0.         0.         0.         0.         0.         0.\n",
            " 0.         0.         0.         0.         0.08105478 0.07066064\n",
            " 0.         0.         0.         0.         0.         0.\n",
            " 0.         0.04516864 0.         0.         0.         0.\n",
            " 0.         0.         0.         0.         0.         0.\n",
            " 0.         0.05321691 0.         0.         0.         0.\n",
            " 0.         0.         0.         0.         0.         0.\n",
            " 0.         0.         0.0871647  0.         0.         0.\n",
            " 0.         0.         0.         0.05506308 0.0708757  0.\n",
            " 0.         0.         0.         0.         0.         0.\n",
            " 0.         0.         0.         0.         0.         0.\n",
            " 0.         0.         0.         0.         0.         0.\n",
            " 0.         0.         0.         0.         0.         0.\n",
            " 0.         0.16585935 0.         0.         0.09676192 0.\n",
            " 0.         0.04970682 0.         0.         0.         0.\n",
            " 0.07397056 0.         0.         0.         0.         0.\n",
            " 0.         0.0748045  0.07639898 0.09185775 0.         0.\n",
            " 0.         0.         0.         0.         0.         0.\n",
            " 0.         0.         0.         0.05133662 0.         0.09442732\n",
            " 0.         0.         0.         0.         0.         0.\n",
            " 0.         0.         0.         0.         0.         0.\n",
            " 0.         0.         0.         0.         0.         0.\n",
            " 0.         0.09657087 0.         0.         0.         0.\n",
            " 0.         0.         0.         0.07062049 0.         0.\n",
            " 0.         0.         0.04405493 0.         0.05892624 0.11838033\n",
            " 0.         0.         0.         0.         0.1245151  0.\n",
            " 0.         0.         0.         0.         0.         0.\n",
            " 0.         0.15886654 0.         0.         0.         0.\n",
            " 0.         0.         0.         0.08435344 0.         0.\n",
            " 0.         0.         0.         0.         0.         0.\n",
            " 0.         0.         0.         0.         0.         0.04471932\n",
            " 0.         0.         0.         0.07063387 0.         0.\n",
            " 0.29304485 0.         0.         0.         0.         0.\n",
            " 0.         0.18141448 0.         0.         0.         0.\n",
            " 0.         0.12564763 0.         0.         0.         0.\n",
            " 0.         0.         0.         0.         0.         0.\n",
            " 0.         0.         0.05834299 0.         0.         0.08003112\n",
            " 0.08435344 0.         0.         0.09115444 0.         0.08189961\n",
            " 0.         0.13411106 0.         0.         0.         0.\n",
            " 0.         0.         0.         0.         0.         0.\n",
            " 0.         0.         0.         0.05631577 0.         0.\n",
            " 0.         0.         0.         0.         0.         0.\n",
            " 0.         0.         0.         0.         0.         0.\n",
            " 0.         0.         0.         0.05557735 0.         0.\n",
            " 0.         0.         0.         0.         0.0611348  0.09448648\n",
            " 0.         0.         0.         0.         0.         0.\n",
            " 0.07930797 0.09349615 0.         0.06379457 0.         0.17160741\n",
            " 0.         0.         0.         0.13427658 0.         0.\n",
            " 0.08006774 0.         0.         0.         0.         0.\n",
            " 0.         0.06885442 0.         0.         0.         0.\n",
            " 0.         0.         0.         0.         0.         0.\n",
            " 0.         0.         0.         0.09793451 0.         0.\n",
            " 0.         0.         0.05268964 0.         0.05993985 0.05477763\n",
            " 0.         0.04997463 0.         0.         0.         0.\n",
            " 0.         0.         0.09867431 0.         0.         0.\n",
            " 0.09487394 0.         0.15341726 0.         0.         0.\n",
            " 0.         0.         0.08813151 0.07690585 0.07177948 0.\n",
            " 0.         0.09843694 0.         0.         0.         0.\n",
            " 0.         0.05941035 0.08188014 0.         0.         0.\n",
            " 0.         0.         0.09612974 0.06395483 0.         0.\n",
            " 0.         0.         0.         0.         0.         0.\n",
            " 0.06973746 0.         0.         0.         0.         0.\n",
            " 0.         0.         0.         0.         0.         0.12067215\n",
            " 0.         0.         0.         0.         0.         0.09674118\n",
            " 0.         0.0615769  0.         0.         0.         0.\n",
            " 0.         0.         0.         0.07446814 0.         0.\n",
            " 0.         0.         0.         0.08993396 0.         0.\n",
            " 0.         0.         0.         0.         0.09901671 0.\n",
            " 0.         0.         0.         0.         0.         0.\n",
            " 0.         0.         0.         0.         0.         0.\n",
            " 0.05946565 0.         0.         0.         0.05873657 0.\n",
            " 0.         0.         0.         0.09634949 0.         0.04805982\n",
            " 0.         0.08968056 0.         0.         0.0860263  0.\n",
            " 0.         0.         0.         0.06318282 0.         0.\n",
            " 0.         0.04256832 0.         0.         0.         0.\n",
            " 0.06642087 0.         0.         0.         0.09201473 0.\n",
            " 0.         0.0831116  0.         0.         0.         0.\n",
            " 0.         0.         0.         0.         0.         0.\n",
            " 0.         0.         0.         0.         0.         0.06971149\n",
            " 0.09554125 0.04625983 0.08531558 0.         0.         0.\n",
            " 0.06799661 0.07466644 0.         0.         0.         0.09843694\n",
            " 0.         0.         0.         0.06502346 0.         0.\n",
            " 0.         0.         0.         0.         0.         0.\n",
            " 0.         0.06869092 0.         0.         0.         0.\n",
            " 0.         0.         0.         0.         0.         0.\n",
            " 0.08067849 0.         0.         0.         0.         0.\n",
            " 0.         0.         0.         0.         0.         0.\n",
            " 0.         0.         0.0466968  0.0539756  0.08760887 0.\n",
            " 0.1533845  0.         0.         0.         0.         0.09298479\n",
            " 0.         0.         0.         0.         0.         0.\n",
            " 0.         0.         0.         0.         0.10580777 0.\n",
            " 0.         0.11100899 0.13361762 0.         0.         0.\n",
            " 0.06046932 0.         0.08258902 0.         0.         0.2392193\n",
            " 0.         0.09217882 0.         0.04223906 0.         0.\n",
            " 0.08665848 0.04111178 0.         0.         0.16434695 0.04117693\n",
            " 0.         0.         0.         0.07231244 0.         0.\n",
            " 0.         0.         0.         0.         0.         0.\n",
            " 0.11467609 0.09387096 0.         0.         0.         0.\n",
            " 0.         0.         0.04833236 0.         0.         0.\n",
            " 0.        ]\n"
          ]
        }
      ]
    },
    {
      "cell_type": "code",
      "source": [
        "print(\"For MBTI personality type : %s\" % translate_back(list_personality[0,:]))\n",
        "print(\"Y : Binarized MBTI 1st row: %s\" % list_personality[0,:])"
      ],
      "metadata": {
        "colab": {
          "base_uri": "https://localhost:8080/"
        },
        "id": "KmFv89otiNpX",
        "outputId": "e8b330a9-1f86-41be-b492-b36ca3f10bfe"
      },
      "execution_count": null,
      "outputs": [
        {
          "output_type": "stream",
          "name": "stdout",
          "text": [
            "For MBTI personality type : INFJ\n",
            "Y : Binarized MBTI 1st row: [0 0 0 0]\n"
          ]
        }
      ]
    },
    {
      "cell_type": "markdown",
      "source": [
        "Training & Evaluating Models"
      ],
      "metadata": {
        "id": "sFHGdnosj0wO"
      }
    },
    {
      "cell_type": "code",
      "source": [
        "X = X_tfidf"
      ],
      "metadata": {
        "id": "Q_W8dUncjjHo"
      },
      "execution_count": null,
      "outputs": []
    },
    {
      "cell_type": "code",
      "source": [
        "#Random Forest model for MBTI dataset\n",
        "# Individually training each mbti personlity type\n",
        "for l in range(len(personality_type)):\n",
        "\n",
        "    Y = list_personality[:,l]\n",
        "\n",
        "    # split data into train and test sets\n",
        "    X_train, X_test, y_train, y_test = train_test_split(X, Y, test_size=0.33, random_state=7)\n",
        "\n",
        "    # fit model on training data\n",
        "    model = RandomForestClassifier()\n",
        "    model.fit(X_train, y_train)\n",
        "\n",
        "    # make predictions for test data\n",
        "    y_pred = model.predict(X_test)\n",
        "\n",
        "    predictions = [round(value) for value in y_pred]\n",
        "    # evaluate predictions\n",
        "    accuracy = accuracy_score(y_test, predictions)\n",
        "\n",
        "    print(\"%s Accuracy: %.2f%%\" % (personality_type[l], accuracy * 100.0))"
      ],
      "metadata": {
        "colab": {
          "base_uri": "https://localhost:8080/"
        },
        "id": "zw0kKrTlkJoX",
        "outputId": "5924d157-246e-4efb-e227-83b20bd23607"
      },
      "execution_count": null,
      "outputs": [
        {
          "output_type": "stream",
          "name": "stdout",
          "text": [
            "IE: Introversion (I) / Extroversion (E) Accuracy: 77.65%\n",
            "NS: Intuition (N) / Sensing (S) Accuracy: 86.03%\n",
            "FT: Feeling (F) / Thinking (T) Accuracy: 69.33%\n",
            "JP: Judging (J) / Perceiving (P) Accuracy: 62.45%\n"
          ]
        }
      ]
    },
    {
      "cell_type": "code",
      "source": [
        "#XGBoost model for MBTI dataset\n",
        "# Individually training each mbti personlity type\n",
        "for l in range(len(personality_type)):\n",
        "\n",
        "    Y = list_personality[:,l]\n",
        "\n",
        "    # split data into train and test sets\n",
        "    X_train, X_test, y_train, y_test = train_test_split(X, Y, test_size=0.33, random_state=7)\n",
        "\n",
        "    # fit model on training data\n",
        "    model = XGBClassifier()\n",
        "    model.fit(X_train, y_train)\n",
        "\n",
        "    # make predictions for test data\n",
        "    y_pred = model.predict(X_test)\n",
        "    predictions = [round(value) for value in y_pred]\n",
        "    # evaluate predictions\n",
        "    accuracy = accuracy_score(y_test, predictions)\n",
        "\n",
        "    print(\"%s Accuracy: %.2f%%\" % (personality_type[l], accuracy * 100.0))"
      ],
      "metadata": {
        "colab": {
          "base_uri": "https://localhost:8080/"
        },
        "id": "SdEaHSZMkTLO",
        "outputId": "8515f54b-82fa-4828-c1ce-d7b92f7c1f2a"
      },
      "execution_count": null,
      "outputs": [
        {
          "output_type": "stream",
          "name": "stdout",
          "text": [
            "IE: Introversion (I) / Extroversion (E) Accuracy: 75.52%\n",
            "NS: Intuition (N) / Sensing (S) Accuracy: 85.19%\n",
            "FT: Feeling (F) / Thinking (T) Accuracy: 67.69%\n",
            "JP: Judging (J) / Perceiving (P) Accuracy: 61.79%\n"
          ]
        }
      ]
    },
    {
      "cell_type": "code",
      "source": [
        "# Stocastic Gradient Descent for MBTI dataset\n",
        "# Individually training each mbti personlity type\n",
        "for l in range(len(personality_type)):\n",
        "\n",
        "    Y = list_personality[:,l]\n",
        "\n",
        "    # split data into train and test sets\n",
        "    X_train, X_test, y_train, y_test = train_test_split(X, Y, test_size=0.33, random_state=7)\n",
        "\n",
        "    # fit model on training data\n",
        "    model = SGDClassifier()\n",
        "    model.fit(X_train, y_train)\n",
        "\n",
        "    # make predictions for test data\n",
        "    y_pred = model.predict(X_test)\n",
        "\n",
        "    predictions = [round(value) for value in y_pred]\n",
        "    # evaluate predictions\n",
        "    accuracy = accuracy_score(y_test, predictions)\n",
        "\n",
        "    print(\"%s Accuracy: %.2f%%\" % (personality_type[l], accuracy * 100.0))"
      ],
      "metadata": {
        "colab": {
          "base_uri": "https://localhost:8080/"
        },
        "id": "PctI8midkdyf",
        "outputId": "42383b84-24ca-4bc0-ede9-e4bcbc679ee9"
      },
      "execution_count": null,
      "outputs": [
        {
          "output_type": "stream",
          "name": "stdout",
          "text": [
            "IE: Introversion (I) / Extroversion (E) Accuracy: 76.53%\n",
            "NS: Intuition (N) / Sensing (S) Accuracy: 86.03%\n",
            "FT: Feeling (F) / Thinking (T) Accuracy: 71.99%\n",
            "JP: Judging (J) / Perceiving (P) Accuracy: 62.73%\n"
          ]
        }
      ]
    },
    {
      "cell_type": "code",
      "source": [
        "from sklearn.ensemble import AdaBoostClassifier\n",
        "\n",
        "# Create a dictionary to store accuracy for each personality type\n",
        "accuracy_dict = {}\n",
        "\n",
        "for l in range(len(personality_type)):\n",
        "    Y = list_personality[:, l]\n",
        "\n",
        "    # Split data into train and test sets\n",
        "    X_train, X_test, y_train, y_test = train_test_split(X, Y, test_size=0.33, random_state=7)\n",
        "\n",
        "    # Initialize and fit the AdaBoost model\n",
        "    model = AdaBoostClassifier()\n",
        "    model.fit(X_train, y_train)\n",
        "\n",
        "    # Make predictions for the test data\n",
        "    y_pred = model.predict(X_test)\n",
        "\n",
        "    predictions = [round(value) for value in y_pred]\n",
        "\n",
        "    # Evaluate predictions\n",
        "    accuracy = accuracy_score(y_test, predictions)\n",
        "\n",
        "    accuracy_dict[personality_type[l]] = accuracy\n",
        "\n",
        "# Print accuracy for each personality type\n",
        "for personality, accuracy in accuracy_dict.items():\n",
        "    print(f\"{personality} Accuracy: {accuracy * 100:.2f}%\")\n"
      ],
      "metadata": {
        "colab": {
          "base_uri": "https://localhost:8080/"
        },
        "id": "KlyL82yrJwxG",
        "outputId": "e9464c62-1645-4905-ed9a-dafc25b7c9f8"
      },
      "execution_count": null,
      "outputs": [
        {
          "output_type": "stream",
          "name": "stdout",
          "text": [
            "IE: Introversion (I) / Extroversion (E) Accuracy: 76.42%\n",
            "NS: Intuition (N) / Sensing (S) Accuracy: 85.12%\n",
            "FT: Feeling (F) / Thinking (T) Accuracy: 67.34%\n",
            "JP: Judging (J) / Perceiving (P) Accuracy: 62.80%\n"
          ]
        }
      ]
    },
    {
      "cell_type": "code",
      "source": [
        "from sklearn.tree import DecisionTreeClassifier\n",
        "\n",
        "# Create a dictionary to store accuracy for each personality type\n",
        "accuracy_dict = {}\n",
        "\n",
        "for l in range(len(personality_type)):\n",
        "    Y = list_personality[:, l]\n",
        "\n",
        "    # Split data into train and test sets\n",
        "    X_train, X_test, y_train, y_test = train_test_split(X, Y, test_size=0.33, random_state=7)\n",
        "\n",
        "    # Initialize and fit the Decision Tree model\n",
        "    model = DecisionTreeClassifier()\n",
        "    model.fit(X_train, y_train)\n",
        "\n",
        "    # Make predictions for the test data\n",
        "    y_pred = model.predict(X_test)\n",
        "\n",
        "    predictions = [round(value) for value in y_pred]\n",
        "\n",
        "    # Evaluate predictions\n",
        "    accuracy = accuracy_score(y_test, predictions)\n",
        "\n",
        "    accuracy_dict[personality_type[l]] = accuracy\n",
        "\n",
        "# Print accuracy for each personality type\n",
        "for personality, accuracy in accuracy_dict.items():\n",
        "    print(f\"{personality} Accuracy: {accuracy * 100:.2f}%\")\n"
      ],
      "metadata": {
        "colab": {
          "base_uri": "https://localhost:8080/"
        },
        "id": "2B3OccZwKTdf",
        "outputId": "95d00a23-fb45-4781-f928-187cd3841bb6"
      },
      "execution_count": null,
      "outputs": [
        {
          "output_type": "stream",
          "name": "stdout",
          "text": [
            "IE: Introversion (I) / Extroversion (E) Accuracy: 65.74%\n",
            "NS: Intuition (N) / Sensing (S) Accuracy: 77.23%\n",
            "FT: Feeling (F) / Thinking (T) Accuracy: 58.47%\n",
            "JP: Judging (J) / Perceiving (P) Accuracy: 54.14%\n"
          ]
        }
      ]
    },
    {
      "cell_type": "code",
      "source": [
        "from sklearn.naive_bayes import MultinomialNB\n",
        "\n",
        "# Create a dictionary to store accuracy for each personality type\n",
        "accuracy_dict = {}\n",
        "\n",
        "for l in range(len(personality_type)):\n",
        "    Y = list_personality[:, l]\n",
        "\n",
        "    # Split data into train and test sets\n",
        "    X_train, X_test, y_train, y_test = train_test_split(X, Y, test_size=0.33, random_state=7)\n",
        "\n",
        "    # Initialize and fit the Multinomial Naive Bayes model\n",
        "    model = MultinomialNB()\n",
        "    model.fit(X_train, y_train)\n",
        "\n",
        "    # Make predictions for the test data\n",
        "    y_pred = model.predict(X_test)\n",
        "\n",
        "    predictions = [round(value) for value in y_pred]\n",
        "\n",
        "    # Evaluate predictions\n",
        "    accuracy = accuracy_score(y_test, predictions)\n",
        "\n",
        "    accuracy_dict[personality_type[l]] = accuracy\n",
        "\n",
        "# Print accuracy for each personality type\n",
        "for personality, accuracy in accuracy_dict.items():\n",
        "    print(f\"{personality} Accuracy: {accuracy * 100:.2f}%\")\n"
      ],
      "metadata": {
        "colab": {
          "base_uri": "https://localhost:8080/"
        },
        "id": "VlJ0lc_AKcwd",
        "outputId": "a3a974c9-a083-4373-a92b-72014a22dd65"
      },
      "execution_count": null,
      "outputs": [
        {
          "output_type": "stream",
          "name": "stdout",
          "text": [
            "IE: Introversion (I) / Extroversion (E) Accuracy: 77.86%\n",
            "NS: Intuition (N) / Sensing (S) Accuracy: 86.03%\n",
            "FT: Feeling (F) / Thinking (T) Accuracy: 67.41%\n",
            "JP: Judging (J) / Perceiving (P) Accuracy: 61.58%\n"
          ]
        }
      ]
    },
    {
      "cell_type": "code",
      "source": [
        "# KNN model for MBTI dataset\n",
        "# Individually training each mbti personlity type\n",
        "for l in range(len(personality_type)):\n",
        "\n",
        "    Y = list_personality[:,l]\n",
        "\n",
        "    # split data into train and test sets\n",
        "    X_train, X_test, y_train, y_test = train_test_split(X, Y, test_size=0.33, random_state=7)\n",
        "\n",
        "    # fit model on training data\n",
        "    model = KNeighborsClassifier(n_neighbors = 2)  # n_neighbors means k\n",
        "    model.fit(X_train, y_train)\n",
        "\n",
        "    # make predictions for test data\n",
        "    y_pred = model.predict(X_test)\n",
        "\n",
        "    predictions = [round(value) for value in y_pred]\n",
        "    # evaluate predictions\n",
        "    accuracy = accuracy_score(y_test, predictions)\n",
        "\n",
        "    print(\"%s Accuracy: %.2f%%\" % (personality_type[l], accuracy * 100.0))"
      ],
      "metadata": {
        "colab": {
          "base_uri": "https://localhost:8080/"
        },
        "id": "pmq3x-IvKx7T",
        "outputId": "fc818afe-c87c-488f-da33-b18f618b308c"
      },
      "execution_count": null,
      "outputs": [
        {
          "output_type": "stream",
          "name": "stdout",
          "text": [
            "IE: Introversion (I) / Extroversion (E) Accuracy: 76.67%\n",
            "NS: Intuition (N) / Sensing (S) Accuracy: 85.82%\n",
            "FT: Feeling (F) / Thinking (T) Accuracy: 54.70%\n",
            "JP: Judging (J) / Perceiving (P) Accuracy: 40.20%\n"
          ]
        }
      ]
    }
  ],
  "metadata": {
    "colab": {
      "provenance": []
    },
    "kernelspec": {
      "display_name": "Python 3",
      "name": "python3"
    },
    "language_info": {
      "name": "python"
    }
  },
  "nbformat": 4,
  "nbformat_minor": 0
}